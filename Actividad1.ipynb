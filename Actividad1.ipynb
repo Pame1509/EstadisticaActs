{
  "nbformat": 4,
  "nbformat_minor": 0,
  "metadata": {
    "colab": {
      "provenance": [],
      "authorship_tag": "ABX9TyOZnaCe8BiZ7golUiKUHIt8",
      "include_colab_link": true
    },
    "kernelspec": {
      "name": "ir",
      "display_name": "R"
    },
    "language_info": {
      "name": "R"
    }
  },
  "cells": [
    {
      "cell_type": "markdown",
      "metadata": {
        "id": "view-in-github",
        "colab_type": "text"
      },
      "source": [
        "<a href=\"https://colab.research.google.com/github/Pame1509/EstadisticaActs/blob/main/Actividad1.ipynb\" target=\"_parent\"><img src=\"https://colab.research.google.com/assets/colab-badge.svg\" alt=\"Open In Colab\"/></a>"
      ]
    },
    {
      "cell_type": "code",
      "execution_count": 4,
      "metadata": {
        "colab": {
          "base_uri": "https://localhost:8080/"
        },
        "id": "UmjU8O40T7_L",
        "outputId": "efa0970d-1606-4732-8873-8d18dfbb337c"
      },
      "outputs": [
        {
          "output_type": "stream",
          "name": "stderr",
          "text": [
            "Installing package into ‘/usr/local/lib/R/site-library’\n",
            "(as ‘lib’ is unspecified)\n",
            "\n"
          ]
        }
      ],
      "source": [
        "install.packages(\"git2r\")\n",
        "library(git2r)"
      ]
    },
    {
      "cell_type": "code",
      "source": [
        "from google.colab import drive\n",
        "drive.mount('/content/drive')"
      ],
      "metadata": {
        "colab": {
          "base_uri": "https://localhost:8080/",
          "height": 135
        },
        "id": "4KyhS9-gUKVr",
        "outputId": "469308d7-2c09-48ea-e7dc-8a924d95de5c"
      },
      "execution_count": 2,
      "outputs": [
        {
          "output_type": "error",
          "ename": "ERROR",
          "evalue": "ignored",
          "traceback": [
            "Error in parse(text = x, srcfile = src): <text>:1:6: unexpected symbol\n1: from google.colab\n         ^\nTraceback:\n"
          ]
        }
      ]
    },
    {
      "cell_type": "code",
      "source": [
        "# Carpeta a eliminar\n",
        "directory_to_delete <- \"/content/drive/MyDrive/Master_BigData_VIU/EstadisticaAvanzada/EstadisticaActs\"\n",
        "\n",
        "# Borrar de forma recursiva\n",
        "unlink(directory_to_delete, recursive = TRUE)"
      ],
      "metadata": {
        "id": "MO5q_I1uf2nA"
      },
      "execution_count": 9,
      "outputs": []
    },
    {
      "cell_type": "code",
      "source": [
        "repo_url <- \"https://github.com/Pame1509/EstadisticaActs.git\"\n",
        "parent_dir <- \"/content/drive/MyDrive/Master_BigData_VIU\"  # The directory where you want to clone the repository\n",
        "subdirectory <- \"EstadisticaAvanzada\"\n",
        "\n",
        "# Combine the parent directory and subdirectory to form the full path\n",
        "local_dir <- file.path(parent_dir, subdirectory)\n",
        "\n",
        "clone(repo_url, local_dir)"
      ],
      "metadata": {
        "colab": {
          "base_uri": "https://localhost:8080/",
          "height": 233
        },
        "id": "39mL4niQUQ6Q",
        "outputId": "d301cf2f-e630-491e-8a66-ecb084308e34"
      },
      "execution_count": 10,
      "outputs": [
        {
          "output_type": "stream",
          "name": "stdout",
          "text": [
            "cloning into '/content/drive/MyDrive/Master_BigData_VIU/EstadisticaAvanzada'...\n",
            "Receiving objects:  33% (1/3),    8 kb\n",
            "Receiving objects:  66% (2/3),    8 kb\n",
            "Receiving objects:  66% (2/3),  101 kb\n",
            "Receiving objects:  66% (2/3),  201 kb\n",
            "Receiving objects:  66% (2/3),  302 kb\n",
            "Receiving objects:  66% (2/3),  402 kb\n",
            "Receiving objects:  66% (2/3),  503 kb\n",
            "Receiving objects: 100% (3/3),  840 kb, done.\n"
          ]
        },
        {
          "output_type": "display_data",
          "data": {
            "text/plain": [
              "Local:    main /content/drive/MyDrive/Master_BigData_VIU/EstadisticaAvanzada\n",
              "Remote:   main @ origin (https://github.com/Pame1509/EstadisticaActs.git)\n",
              "Head:     [ef20dee] 2023-07-22: Add files via upload"
            ]
          },
          "metadata": {}
        }
      ]
    },
    {
      "cell_type": "code",
      "source": [],
      "metadata": {
        "id": "ggHh2a0_gQ74"
      },
      "execution_count": null,
      "outputs": []
    }
  ]
}